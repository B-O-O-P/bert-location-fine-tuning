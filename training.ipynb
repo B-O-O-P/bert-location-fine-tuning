{
 "cells": [
  {
   "cell_type": "code",
   "execution_count": 24,
   "metadata": {
    "collapsed": true,
    "pycharm": {
     "is_executing": false
    }
   },
   "outputs": [],
   "source": [
    "import os\n",
    "import nltk\n",
    "import pandas as pd\n",
    "import numpy as np\n",
    "import torch.nn.functional as F\n",
    "from IPython.display import clear_output\n",
    "from nltk import WordNetLemmatizer\n",
    "from torch.utils.data import DataLoader, RandomSampler, TensorDataset, random_split\n",
    "\n",
    "from string import punctuation\n",
    "import tensorflow as tf"
   ]
  },
  {
   "cell_type": "code",
   "execution_count": 25,
   "outputs": [],
   "source": [
    "data = pd.read_csv('data/COCO-locations.csv')"
   ],
   "metadata": {
    "collapsed": false,
    "pycharm": {
     "name": "#%%\n",
     "is_executing": false
    }
   }
  },
  {
   "cell_type": "code",
   "execution_count": 26,
   "outputs": [
    {
     "name": "stdout",
     "text": [
      "24113\n",
      "24113\n"
     ],
     "output_type": "stream"
    }
   ],
   "source": [
    "un_texts = list(data['cap'])\n",
    "\n",
    "un_labels = list(data['background'])\n",
    "\n",
    "print(len(un_texts))\n",
    "print(len(un_labels))"
   ],
   "metadata": {
    "collapsed": false,
    "pycharm": {
     "name": "#%%\n",
     "is_executing": false
    }
   }
  },
  {
   "cell_type": "code",
   "execution_count": 27,
   "outputs": [
    {
     "name": "stdout",
     "text": [
      "24113\n"
     ],
     "output_type": "stream"
    }
   ],
   "source": [
    "texts = []\n",
    "labels = []\n",
    "\n",
    "for i in range(len(un_labels)):\n",
    "    if un_labels[i] != \"[]\":\n",
    "        texts.append((un_texts[i].translate(str.maketrans('', '', punctuation))).lower())\n",
    "        labels.append(un_labels[i])\n",
    "    \n",
    "labels = list(map(lambda array_str: array_str[1:-1].split(', '), labels))\n",
    "\n",
    "labels = list(map(lambda array: list(map(lambda str: str[1:-1], array)), labels))\n",
    "\n",
    "print(len(labels))"
   ],
   "metadata": {
    "collapsed": false,
    "pycharm": {
     "name": "#%%\n",
     "is_executing": false
    }
   }
  },
  {
   "cell_type": "code",
   "execution_count": 28,
   "outputs": [],
   "source": [
    "max_words = 256\n",
    "\n",
    "def get_words(text):\n",
    "    words = nltk.word_tokenize(text.lower())\n",
    "    no_punkt = [word for word in words if word.isalnum()]\n",
    "    tags = nltk.pos_tag(no_punkt)\n",
    "    nounsAndAdjs = [word for word,pos in tags]\n",
    "\n",
    "    Lem = WordNetLemmatizer()\n",
    "    words = [Lem.lemmatize(word) for word in nounsAndAdjs]\n",
    "    return words\n",
    "\n",
    "for text in texts:\n",
    "    max_words = max(max_words, len(get_words(text)))"
   ],
   "metadata": {
    "collapsed": false,
    "pycharm": {
     "name": "#%%\n",
     "is_executing": false
    }
   }
  },
  {
   "cell_type": "code",
   "execution_count": 29,
   "outputs": [],
   "source": [
    "def one_hot_background(words, label_array):\n",
    "    words_no = words.split(' ')\n",
    "\n",
    "    Lem = WordNetLemmatizer()\n",
    "    words = [Lem.lemmatize(word) for word in words_no]\n",
    "    N = max_words\n",
    "    one_hot_label = np.zeros(N)\n",
    "    \n",
    "    for i in range(len(words)):\n",
    "        if words[i] in label_array:\n",
    "            one_hot_label[i] = 1\n",
    "    \n",
    "    return np.array(one_hot_label, dtype=np.float64)"
   ],
   "metadata": {
    "collapsed": false,
    "pycharm": {
     "name": "#%%\n",
     "is_executing": false
    }
   }
  },
  {
   "cell_type": "code",
   "execution_count": 30,
   "outputs": [],
   "source": [
    "import torch\n",
    "from transformers import BertTokenizer, BertModel, BertForPreTraining, BertForSequenceClassification"
   ],
   "metadata": {
    "collapsed": false,
    "pycharm": {
     "name": "#%%\n",
     "is_executing": false
    }
   }
  },
  {
   "cell_type": "code",
   "execution_count": 31,
   "outputs": [
    {
     "name": "stderr",
     "text": [
      "Truncation was not explicitly activated but `max_length` is provided a specific value, please use `truncation=True` to explicitly truncate examples to max length. Defaulting to 'longest_first' truncation strategy. If you encode pairs of sequences (GLUE-style) with the tokenizer you can select this strategy more precisely by providing a specific strategy to `truncation`.\n"
     ],
     "output_type": "stream"
    },
    {
     "name": "stdout",
     "text": [
      "Original:  a black and white image of a city street in the 1950s or early 1960s\n",
      "Token IDs: tensor([ 101, 1037, 2304, 1998, 2317, 3746, 1997, 1037, 2103, 2395, 1999, 1996,\n",
      "        4856, 2030, 2220, 4120,  102,    0,    0,    0,    0,    0,    0,    0,\n",
      "           0,    0,    0,    0,    0,    0,    0,    0,    0,    0,    0,    0,\n",
      "           0,    0,    0,    0,    0,    0,    0,    0,    0,    0,    0,    0,\n",
      "           0,    0,    0,    0,    0,    0,    0,    0,    0,    0,    0,    0,\n",
      "           0,    0,    0,    0,    0,    0,    0,    0,    0,    0,    0,    0,\n",
      "           0,    0,    0,    0,    0,    0,    0,    0,    0,    0,    0,    0,\n",
      "           0,    0,    0,    0,    0,    0,    0,    0,    0,    0,    0,    0,\n",
      "           0,    0,    0,    0,    0,    0,    0,    0,    0,    0,    0,    0,\n",
      "           0,    0,    0,    0,    0,    0,    0,    0,    0,    0,    0,    0,\n",
      "           0,    0,    0,    0,    0,    0,    0,    0,    0,    0,    0,    0,\n",
      "           0,    0,    0,    0,    0,    0,    0,    0,    0,    0,    0,    0,\n",
      "           0,    0,    0,    0,    0,    0,    0,    0,    0,    0,    0,    0,\n",
      "           0,    0,    0,    0,    0,    0,    0,    0,    0,    0,    0,    0,\n",
      "           0,    0,    0,    0,    0,    0,    0,    0,    0,    0,    0,    0,\n",
      "           0,    0,    0,    0,    0,    0,    0,    0,    0,    0,    0,    0,\n",
      "           0,    0,    0,    0,    0,    0,    0,    0,    0,    0,    0,    0,\n",
      "           0,    0,    0,    0,    0,    0,    0,    0,    0,    0,    0,    0,\n",
      "           0,    0,    0,    0,    0,    0,    0,    0,    0,    0,    0,    0,\n",
      "           0,    0,    0,    0,    0,    0,    0,    0,    0,    0,    0,    0,\n",
      "           0,    0,    0,    0,    0,    0,    0,    0,    0,    0,    0,    0,\n",
      "           0,    0,    0,    0])\n"
     ],
     "output_type": "stream"
    }
   ],
   "source": [
    "tokenizer = BertTokenizer.from_pretrained('bert-base-uncased', do_lower_case=True)\n",
    "\n",
    "input_ids = []\n",
    "attention_masks = []\n",
    "\n",
    "max_length = 256\n",
    "\n",
    "for text in texts:\n",
    "    encoded_dict = tokenizer.encode_plus(\n",
    "                        text,                      # Sentence to encode.\n",
    "                        add_special_tokens = True, # Add '[CLS]' and '[SEP]'\n",
    "                        max_length = 256,           # Pad & truncate all sentences.\n",
    "                        pad_to_max_length = True,\n",
    "                        return_attention_mask = True,   # Construct attn. masks.\n",
    "                        return_tensors = 'pt',     # Return pytorch tensors.\n",
    "                   )\n",
    "    \n",
    "    input_ids.append(encoded_dict['input_ids'])\n",
    "    \n",
    "    attention_masks.append(encoded_dict['attention_mask'])\n",
    "    \n",
    "input_ids = torch.cat(input_ids, dim=0)\n",
    "attention_masks = torch.cat(attention_masks, dim=0)\n",
    "\n",
    "print('Original: ', texts[0])\n",
    "print('Token IDs:', input_ids[0])"
   ],
   "metadata": {
    "collapsed": false,
    "pycharm": {
     "name": "#%%\n",
     "is_executing": false
    }
   }
  },
  {
   "cell_type": "code",
   "execution_count": 32,
   "outputs": [
    {
     "name": "stdout",
     "text": [
      "[0. 0. 0. 0. 0. 0. 0. 0. 1. 1. 0. 0. 0. 0. 0. 1. 0. 0. 0. 0. 0. 0. 0. 0.\n",
      " 0. 0. 0. 0. 0. 0. 0. 0. 0. 0. 0. 0. 0. 0. 0. 0. 0. 0. 0. 0. 0. 0. 0. 0.\n",
      " 0. 0. 0. 0. 0. 0. 0. 0. 0. 0. 0. 0. 0. 0. 0. 0. 0. 0. 0. 0. 0. 0. 0. 0.\n",
      " 0. 0. 0. 0. 0. 0. 0. 0. 0. 0. 0. 0. 0. 0. 0. 0. 0. 0. 0. 0. 0. 0. 0. 0.\n",
      " 0. 0. 0. 0. 0. 0. 0. 0. 0. 0. 0. 0. 0. 0. 0. 0. 0. 0. 0. 0. 0. 0. 0. 0.\n",
      " 0. 0. 0. 0. 0. 0. 0. 0. 0. 0. 0. 0. 0. 0. 0. 0. 0. 0. 0. 0. 0. 0. 0. 0.\n",
      " 0. 0. 0. 0. 0. 0. 0. 0. 0. 0. 0. 0. 0. 0. 0. 0. 0. 0. 0. 0. 0. 0. 0. 0.\n",
      " 0. 0. 0. 0. 0. 0. 0. 0. 0. 0. 0. 0. 0. 0. 0. 0. 0. 0. 0. 0. 0. 0. 0. 0.\n",
      " 0. 0. 0. 0. 0. 0. 0. 0. 0. 0. 0. 0. 0. 0. 0. 0. 0. 0. 0. 0. 0. 0. 0. 0.\n",
      " 0. 0. 0. 0. 0. 0. 0. 0. 0. 0. 0. 0. 0. 0. 0. 0. 0. 0. 0. 0. 0. 0. 0. 0.\n",
      " 0. 0. 0. 0. 0. 0. 0. 0. 0. 0. 0. 0. 0. 0. 0. 0.]\n"
     ],
     "output_type": "stream"
    }
   ],
   "source": [
    "decoded_texts = list(map(lambda id: tokenizer.decode(id), input_ids))\n",
    "\n",
    "for i  in range(len(labels)):\n",
    "    label = labels[i]\n",
    "    labels[i] = one_hot_background(decoded_texts[i], label)\n",
    "\n",
    "labels = np.array(labels)\n",
    "print(labels[0])"
   ],
   "metadata": {
    "collapsed": false,
    "pycharm": {
     "name": "#%%\n",
     "is_executing": false
    }
   }
  },
  {
   "cell_type": "code",
   "execution_count": 33,
   "outputs": [
    {
     "name": "stdout",
     "text": [
      "24113\n",
      "24113\n"
     ],
     "output_type": "stream"
    }
   ],
   "source": [
    "batch_size = 8\n",
    "N = len(texts)\n",
    "\n",
    "train_size = int(N * 0.8)\n",
    "val_size = int(N * 0.1)\n",
    "test_size = (N - train_size - val_size)\n",
    "\n",
    "dataset = TensorDataset(input_ids, attention_masks, torch.tensor(labels))\n",
    "print(len(dataset))\n",
    "print(sum([train_size, val_size, test_size]))"
   ],
   "metadata": {
    "collapsed": false,
    "pycharm": {
     "name": "#%%\n",
     "is_executing": false
    }
   }
  },
  {
   "cell_type": "code",
   "execution_count": 34,
   "outputs": [],
   "source": [
    "train_data, val_data, test_data = random_split(dataset, [train_size, val_size, test_size])\n",
    "\n",
    "train_dataloader = DataLoader(train_data, sampler=RandomSampler(train_data), batch_size=batch_size)\n",
    "val_dataloader = DataLoader(val_data, sampler=RandomSampler(val_data), batch_size=batch_size)\n",
    "test_dataloader = DataLoader(test_data, sampler=RandomSampler(test_data), batch_size=batch_size)"
   ],
   "metadata": {
    "collapsed": false,
    "pycharm": {
     "name": "#%%\n",
     "is_executing": false
    }
   }
  },
  {
   "cell_type": "code",
   "execution_count": 35,
   "outputs": [],
   "source": [
    "from torch import nn\n",
    "\n",
    "class BERT(nn.Module):\n",
    "    def __init__(self):\n",
    "        super(BERT, self).__init__()\n",
    "        self.model = BertModel.from_pretrained('bert-base-uncased', output_hidden_states = True, )\n",
    "        self.linear = nn.Linear(768, 1)\n",
    "\n",
    "    def forward(self, input_ids, input_mask=None, token_type_ids=None):\n",
    "        output = self.model(input_ids=input_ids, attention_mask=input_mask, token_type_ids=token_type_ids)\n",
    "        output = output[0]\n",
    "        # print(\" BERT output: {}\".format(output))\n",
    "        y_pred = self.linear(output)\n",
    "        return y_pred"
   ],
   "metadata": {
    "collapsed": false,
    "pycharm": {
     "name": "#%%\n",
     "is_executing": false
    }
   }
  },
  {
   "cell_type": "code",
   "execution_count": 36,
   "outputs": [
    {
     "name": "stdout",
     "text": [
      "cuda selected\n"
     ],
     "output_type": "stream"
    }
   ],
   "source": [
    "import torch\n",
    "# If there's a GPU available...\n",
    "if torch.cuda.is_available():    \n",
    "    # Tell PyTorch to use the GPU.    \n",
    "    device = torch.device(\"cuda\")\n",
    "    print(\"cuda selected\")\n",
    "# If not...\n",
    "else:\n",
    "    device = torch.device(\"cpu\")\n",
    "    print(\"cpu selected\")\n",
    "    \n",
    "device = torch.device(\"cpu\")"
   ],
   "metadata": {
    "collapsed": false,
    "pycharm": {
     "name": "#%%\n",
     "is_executing": false
    }
   }
  },
  {
   "cell_type": "code",
   "execution_count": 37,
   "outputs": [],
   "source": [
    "torch.cuda.empty_cache()\n",
    "model = BERT()\n",
    "clear_output(wait=True)"
   ],
   "metadata": {
    "collapsed": false,
    "pycharm": {
     "name": "#%%\n",
     "is_executing": false
    }
   }
  },
  {
   "cell_type": "code",
   "execution_count": 38,
   "outputs": [],
   "source": [
    "model.load_state_dict(torch.load('models/bert-location-transformer-epoch-2.pkl'))\n",
    "model.to(device)\n",
    "clear_output(wait=True)"
   ],
   "metadata": {
    "collapsed": false,
    "pycharm": {
     "name": "#%%\n",
     "is_executing": false
    }
   }
  },
  {
   "cell_type": "code",
   "execution_count": 39,
   "outputs": [],
   "source": [
    "# criterion = torch.nn.functional.binary_cross_entropy_with_logits(reduction = 'sum')\n",
    "optimizer = torch.optim.Adam(model.parameters(), lr = 2e-5, eps = 1e-8)"
   ],
   "metadata": {
    "collapsed": false,
    "pycharm": {
     "name": "#%%\n",
     "is_executing": false
    }
   }
  },
  {
   "cell_type": "code",
   "execution_count": 40,
   "outputs": [
    {
     "name": "stdout",
     "text": [
      "The BERT model has 201 different named parameters.\n",
      "\n",
      "==== Embedding Layer ====\n",
      "\n",
      "model.embeddings.word_embeddings.weight                 (30522, 768)\n",
      "model.embeddings.position_embeddings.weight               (512, 768)\n",
      "model.embeddings.token_type_embeddings.weight               (2, 768)\n",
      "model.embeddings.LayerNorm.weight                             (768,)\n",
      "model.embeddings.LayerNorm.bias                               (768,)\n",
      "\n",
      "==== First Transformer ====\n",
      "\n",
      "model.encoder.layer.0.attention.self.query.weight         (768, 768)\n",
      "model.encoder.layer.0.attention.self.query.bias               (768,)\n",
      "model.encoder.layer.0.attention.self.key.weight           (768, 768)\n",
      "model.encoder.layer.0.attention.self.key.bias                 (768,)\n",
      "model.encoder.layer.0.attention.self.value.weight         (768, 768)\n",
      "model.encoder.layer.0.attention.self.value.bias               (768,)\n",
      "model.encoder.layer.0.attention.output.dense.weight       (768, 768)\n",
      "model.encoder.layer.0.attention.output.dense.bias             (768,)\n",
      "model.encoder.layer.0.attention.output.LayerNorm.weight       (768,)\n",
      "model.encoder.layer.0.attention.output.LayerNorm.bias         (768,)\n",
      "model.encoder.layer.0.intermediate.dense.weight          (3072, 768)\n",
      "model.encoder.layer.0.intermediate.dense.bias                (3072,)\n",
      "model.encoder.layer.0.output.dense.weight                (768, 3072)\n",
      "model.encoder.layer.0.output.dense.bias                       (768,)\n",
      "model.encoder.layer.0.output.LayerNorm.weight                 (768,)\n",
      "model.encoder.layer.0.output.LayerNorm.bias                   (768,)\n",
      "\n",
      "==== Output Layer ====\n",
      "\n",
      "model.pooler.dense.weight                                 (768, 768)\n",
      "model.pooler.dense.bias                                       (768,)\n",
      "linear.weight                                               (1, 768)\n",
      "linear.bias                                                     (1,)\n"
     ],
     "output_type": "stream"
    }
   ],
   "source": [
    "# Get all of the model's parameters as a list of tuples.\n",
    "params = list(model.named_parameters())\n",
    "print('The BERT model has {:} different named parameters.\\n'.format(len(params)))\n",
    "print('==== Embedding Layer ====\\n')\n",
    "for p in params[0:5]:\n",
    "    print(\"{:<55} {:>12}\".format(p[0], str(tuple(p[1].size()))))\n",
    "print('\\n==== First Transformer ====\\n')\n",
    "for p in params[5:21]:\n",
    "    print(\"{:<55} {:>12}\".format(p[0], str(tuple(p[1].size()))))\n",
    "print('\\n==== Output Layer ====\\n')\n",
    "for p in params[-4:]:\n",
    "    print(\"{:<55} {:>12}\".format(p[0], str(tuple(p[1].size()))))\n"
   ],
   "metadata": {
    "collapsed": false,
    "pycharm": {
     "name": "#%%\n",
     "is_executing": false
    }
   }
  },
  {
   "cell_type": "code",
   "execution_count": 41,
   "outputs": [
    {
     "name": "stdout",
     "text": [
      "=====  EPOCH 3  =====\n",
      "  Average loss: 5.674999035596848\n",
      "  Average loss: 5.657656173408031\n",
      "  Average loss: 5.080606339871883\n",
      "  Average loss: 5.050971520543098\n",
      "  Average loss: 5.13747044056654\n",
      "  Average loss: 5.042037989571691\n",
      "  Average loss: 5.623338522315025\n",
      "  Average loss: 5.188880655616522\n",
      "  Average loss: 5.24067159563303\n",
      "  Average loss: 5.916424127817154\n",
      "  Average loss: 4.844217336028814\n",
      "  Average loss: 5.367175480909646\n",
      "  Average loss: 5.351773069426417\n",
      "  Average loss: 5.3929282353818415\n",
      "  Average loss: 4.971278113946319\n",
      "  Average loss: 5.48309552192688\n",
      "  Average loss: 5.081045084744692\n",
      "  Average loss: 4.575990427434444\n",
      "  Average loss: 5.773209786042571\n",
      "  Average loss: 5.24028655320406\n",
      "  Average loss: 5.246273134201765\n",
      "  Average loss: 4.692979204505682\n",
      "  Average loss: 5.298817750513553\n",
      "  Average loss: 5.301729244142771\n"
     ],
     "output_type": "stream"
    }
   ],
   "source": [
    "epochs = 3\n",
    "log_steps = 100\n",
    "sum_loss = 0\n",
    "\n",
    "model.train()\n",
    "for epoch in range(3, epochs + 1):\n",
    "    print(5*'=', ' EPOCH {} '.format(epoch), 5 * '=')\n",
    "    for step, batch in enumerate(train_dataloader):\n",
    "#       print('STEP: {}'.format(step))\n",
    "        b_input_ids = batch[0]\n",
    "        b_input_mask = batch[1]\n",
    "        b_labels = batch[2].long()\n",
    "        pred = model(b_input_ids, b_input_mask).squeeze()\n",
    "        optimizer.zero_grad()\n",
    "        loss = F.binary_cross_entropy_with_logits(pred, b_labels.type(torch.float32), reduction = 'sum')\n",
    "        loss.backward()\n",
    "        \n",
    "        torch.nn.utils.clip_grad_norm_(model.parameters(), 1.0)\n",
    "\n",
    "        optimizer.step()\n",
    "        # if step % 10 == 0:\n",
    "        #     print(' LOSS: {}'.format(loss.item()))\n",
    "\n",
    "        sum_loss += loss.item()\n",
    "        \n",
    "        if step % log_steps == 0 and step:\n",
    "            print('  Average loss: {}'.format(sum_loss / log_steps))\n",
    "            sum_loss = 0\n",
    "\n",
    "    torch.save(model.state_dict(), os.path.join('./models', 'bert-location-transformer-epoch-%d.pkl' % epoch))\n"
   ],
   "metadata": {
    "collapsed": false,
    "pycharm": {
     "name": "#%%\n",
     "is_executing": false
    }
   }
  },
  {
   "cell_type": "code",
   "execution_count": 42,
   "outputs": [],
   "source": [
    "def flat_accuracy(preds, labels):\n",
    "    pred_flat = np.argmax(preds, axis=1).flatten()\n",
    "    labels_flat = labels.flatten()\n",
    "    return np.sum(pred_flat == labels_flat) / len(labels_flat)"
   ],
   "metadata": {
    "collapsed": false,
    "pycharm": {
     "name": "#%%\n",
     "is_executing": false
    }
   }
  },
  {
   "cell_type": "code",
   "execution_count": 53,
   "outputs": [
    {
     "name": "stdout",
     "text": [
      "===== Validation =====\n",
      "Validation accuracy: 84.15%\n"
     ],
     "output_type": "stream"
    }
   ],
   "source": [
    "model.eval()\n",
    "\n",
    "eval_loss, eval_accuracy = 0, 0\n",
    "nb_eval_steps, nb_eval_examples = 0, 0\n",
    "\n",
    "print(5*\"=\", \"Validation\", 5*\"=\")\n",
    "\n",
    "for step, batch in enumerate(val_dataloader):\n",
    "    # print('STEP: {}'.format(step))\n",
    "    b_input_ids = batch[0]\n",
    "    b_input_mask = batch[1]\n",
    "    b_labels = batch[2].long()\n",
    "        \n",
    "    with torch.no_grad():        \n",
    "        logits = model(b_input_ids, b_input_mask).squeeze()\n",
    "        logits = logits.detach().cpu().numpy()\n",
    "        logits = np.array([np.array(list(map(lambda x: 1 if x > 0 else 0, l))) for l in logits])\n",
    "        label_ids = b_labels.to('cpu').numpy()\n",
    "        \n",
    "        tmp_eval_accuracy = 0\n",
    "        for (logit, label) in zip(logits, label_ids):\n",
    "            tmp_eval_accuracy += int((logit == label).all())\n",
    "        eval_accuracy += tmp_eval_accuracy\n",
    "        nb_eval_steps += batch_size\n",
    "\n",
    "print(\"Validation accuracy: {0:.2f}%\".format(eval_accuracy / nb_eval_steps * 100))"
   ],
   "metadata": {
    "collapsed": false,
    "pycharm": {
     "name": "#%%\n",
     "is_executing": false
    }
   }
  },
  {
   "cell_type": "code",
   "execution_count": 54,
   "outputs": [],
   "source": [
    "torch.save(model, 'models/bert-location-transformer-epoch-last.pkl')"
   ],
   "metadata": {
    "collapsed": false,
    "pycharm": {
     "name": "#%%\n",
     "is_executing": false
    }
   }
  }
 ],
 "metadata": {
  "kernelspec": {
   "display_name": "Python 3",
   "language": "python",
   "name": "python3"
  },
  "language_info": {
   "codemirror_mode": {
    "name": "ipython",
    "version": 2
   },
   "file_extension": ".py",
   "mimetype": "text/x-python",
   "name": "python",
   "nbconvert_exporter": "python",
   "pygments_lexer": "ipython2",
   "version": "2.7.6"
  },
  "pycharm": {
   "stem_cell": {
    "cell_type": "raw",
    "source": [],
    "metadata": {
     "collapsed": false
    }
   }
  }
 },
 "nbformat": 4,
 "nbformat_minor": 0
}