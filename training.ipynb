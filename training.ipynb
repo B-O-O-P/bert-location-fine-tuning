{
 "cells": [
  {
   "cell_type": "code",
   "execution_count": null,
   "metadata": {
    "collapsed": true
   },
   "outputs": [],
   "source": [
    "import nltk\n",
    "import pandas as pd\n",
    "import numpy as np\n",
    "import torch as torch\n",
    "from IPython.display import clear_output\n",
    "import matplotlib.pyplot as plt\n",
    "from nltk import WordNetLemmatizer\n",
    "from torch.utils.data import DataLoader, RandomSampler, TensorDataset, random_split\n",
    "\n",
    "from string import punctuation\n",
    "import tensorflow as tf"
   ]
  },
  {
   "cell_type": "code",
   "execution_count": null,
   "outputs": [],
   "source": [
    "data = pd.read_csv('data/COCO-locations.csv')"
   ],
   "metadata": {
    "collapsed": false,
    "pycharm": {
     "name": "#%%\n"
    }
   }
  },
  {
   "cell_type": "code",
   "execution_count": null,
   "outputs": [],
   "source": [
    "un_texts = list(data['cap'])\n",
    "\n",
    "un_labels = list(data['background'])\n",
    "\n",
    "print(len(un_texts))\n",
    "print(len(un_labels))"
   ],
   "metadata": {
    "collapsed": false,
    "pycharm": {
     "name": "#%%\n"
    }
   }
  },
  {
   "cell_type": "code",
   "execution_count": null,
   "outputs": [],
   "source": [
    "texts = []\n",
    "labels = []\n",
    "\n",
    "for i in range(len(un_labels)):\n",
    "    if un_labels[i] != \"[]\":\n",
    "        texts.append((un_texts[i].translate(str.maketrans('', '', punctuation))).lower())\n",
    "        labels.append(un_labels[i])\n",
    "    \n",
    "labels = list(map(lambda array_str: array_str[1:-1].split(', '), labels))\n",
    "\n",
    "labels = list(map(lambda array: list(map(lambda str: str[1:-1], array)), labels))\n",
    "\n",
    "print(len(labels))"
   ],
   "metadata": {
    "collapsed": false,
    "pycharm": {
     "name": "#%%\n"
    }
   }
  },
  {
   "cell_type": "code",
   "execution_count": null,
   "outputs": [],
   "source": [
    "max_words = 256\n",
    "\n",
    "def get_words(text):\n",
    "    words = nltk.word_tokenize(text.lower())\n",
    "    no_punkt = [word for word in words if word.isalnum()]\n",
    "    tags = nltk.pos_tag(no_punkt)\n",
    "    nounsAndAdjs = [word for word,pos in tags]\n",
    "\n",
    "    Lem = WordNetLemmatizer()\n",
    "    words = [Lem.lemmatize(word) for word in nounsAndAdjs]\n",
    "    return words\n",
    "\n",
    "for text in texts:\n",
    "    max_words = max(max_words, len(get_words(text)))"
   ],
   "metadata": {
    "collapsed": false,
    "pycharm": {
     "name": "#%%\n"
    }
   }
  },
  {
   "cell_type": "code",
   "execution_count": null,
   "outputs": [],
   "source": [
    "def one_hot_background(words, label_array):\n",
    "    words_no = words.split(' ')\n",
    "\n",
    "    Lem = WordNetLemmatizer()\n",
    "    words = [Lem.lemmatize(word) for word in words_no]\n",
    "    N = max_words\n",
    "    one_hot_label = np.zeros(N)\n",
    "    \n",
    "    for i in range(len(words)):\n",
    "        if words[i] in label_array:\n",
    "            one_hot_label[i] = 1\n",
    "    \n",
    "    return np.array(one_hot_label, dtype=np.float64)"
   ],
   "metadata": {
    "collapsed": false,
    "pycharm": {
     "name": "#%%\n"
    }
   }
  },
  {
   "cell_type": "code",
   "execution_count": null,
   "outputs": [],
   "source": [
    "import torch\n",
    "from transformers import BertTokenizer, BertModel"
   ],
   "metadata": {
    "collapsed": false,
    "pycharm": {
     "name": "#%%\n"
    }
   }
  },
  {
   "cell_type": "code",
   "execution_count": null,
   "outputs": [],
   "source": [
    "tokenizer = BertTokenizer.from_pretrained('bert-base-uncased', do_lower_case=True)\n",
    "\n",
    "input_ids = []\n",
    "attention_masks = []\n",
    "\n",
    "max_length = 256\n",
    "\n",
    "for text in texts:\n",
    "    encoded_dict = tokenizer.encode_plus(\n",
    "                        text,                      # Sentence to encode.\n",
    "                        add_special_tokens = True, # Add '[CLS]' and '[SEP]'\n",
    "                        max_length = 256,           # Pad & truncate all sentences.\n",
    "                        pad_to_max_length = True,\n",
    "                        return_attention_mask = True,   # Construct attn. masks.\n",
    "                        return_tensors = 'pt',     # Return pytorch tensors.\n",
    "                   )\n",
    "    \n",
    "    input_ids.append(encoded_dict['input_ids'])\n",
    "    \n",
    "    attention_masks.append(encoded_dict['attention_mask'])\n",
    "    \n",
    "input_ids = torch.cat(input_ids, dim=0)\n",
    "attention_masks = torch.cat(attention_masks, dim=0)\n",
    "\n",
    "print('Original: ', texts[0])\n",
    "print('Token IDs:', input_ids[0])"
   ],
   "metadata": {
    "collapsed": false,
    "pycharm": {
     "name": "#%%\n"
    }
   }
  },
  {
   "cell_type": "code",
   "execution_count": null,
   "outputs": [],
   "source": [
    "decoded_texts = list(map(lambda id: tokenizer.decode(id), input_ids))\n",
    "\n",
    "for i  in range(len(labels)):\n",
    "    label = labels[i]\n",
    "    labels[i] = one_hot_background(decoded_texts[i], label)\n",
    "\n",
    "labels = np.array(labels)\n",
    "print(labels[0])"
   ],
   "metadata": {
    "collapsed": false,
    "pycharm": {
     "name": "#%%\n"
    }
   }
  },
  {
   "cell_type": "code",
   "execution_count": null,
   "outputs": [],
   "source": [
    "batch_size = 8\n",
    "N = len(texts)\n",
    "\n",
    "train_size = int(N * 0.8)\n",
    "val_size = int(N * 0.1)\n",
    "test_size = (N - train_size - val_size)\n",
    "\n",
    "dataset = TensorDataset(input_ids, attention_masks, torch.tensor(labels))\n",
    "print(len(dataset))\n",
    "print(sum([train_size, val_size, test_size]))"
   ],
   "metadata": {
    "collapsed": false,
    "pycharm": {
     "name": "#%%\n"
    }
   }
  },
  {
   "cell_type": "code",
   "execution_count": null,
   "outputs": [],
   "source": [
    "train_data, val_data, test_data = random_split(dataset, [train_size, val_size, test_size])\n",
    "\n",
    "train_dataloader = DataLoader(train_data, sampler=RandomSampler(train_data), batch_size=batch_size)\n",
    "val_dataloader = DataLoader(val_data, sampler=RandomSampler(val_data), batch_size=batch_size)\n",
    "test_dataloader = DataLoader(test_data, sampler=RandomSampler(test_data), batch_size=batch_size)"
   ],
   "metadata": {
    "collapsed": false,
    "pycharm": {
     "name": "#%%\n"
    }
   }
  },
  {
   "cell_type": "code",
   "execution_count": null,
   "outputs": [],
   "source": [
    "from torch import nn\n",
    "\n",
    "class BERT(nn.Module):\n",
    "    def __init__(self):\n",
    "        super(BERT, self).__init__()\n",
    "        self.model = BertModel.from_pretrained('bert-base-uncased', output_hidden_states = True, )\n",
    "        self.linear = nn.Linear(768, 1)\n",
    "\n",
    "    def forward(self, x, y, z):\n",
    "        output = self.model(x, y, z)\n",
    "        y_pred = self.linear(output['last_hidden_state'])\n",
    "        return y_pred"
   ],
   "metadata": {
    "collapsed": false,
    "pycharm": {
     "name": "#%%\n"
    }
   }
  },
  {
   "cell_type": "code",
   "execution_count": null,
   "outputs": [],
   "source": [
    "# import torch\n",
    "# # If there's a GPU available...\n",
    "# if torch.cuda.is_available():    \n",
    "#     # Tell PyTorch to use the GPU.    \n",
    "#     device = torch.device(\"cuda\")\n",
    "#     print('There are %d GPU(s) available.' % torch.cuda.device_count())\n",
    "#     print('We will use the GPU:', torch.cuda.get_device_name(0))\n",
    "# # If not...\n",
    "# else:\n",
    "#     print('No GPU available, using the CPU instead.')\n",
    "device = torch.device(\"cpu\")\n"
   ],
   "metadata": {
    "collapsed": false,
    "pycharm": {
     "name": "#%%\n"
    }
   }
  },
  {
   "cell_type": "code",
   "execution_count": null,
   "outputs": [],
   "source": [
    "torch.cuda.empty_cache()\n",
    "model = BERT()\n",
    "model.model.to(device)"
   ],
   "metadata": {
    "collapsed": false,
    "pycharm": {
     "name": "#%%\n"
    }
   }
  },
  {
   "cell_type": "code",
   "execution_count": null,
   "outputs": [],
   "source": [
    "import tensorflow as tf\n",
    "\n",
    "criterion = nn.BCEWithLogitsLoss(reduction='sum')\n",
    "optimizer = torch.optim.Adam(model.parameters())"
   ],
   "metadata": {
    "collapsed": false,
    "pycharm": {
     "name": "#%%\n"
    }
   }
  },
  {
   "cell_type": "code",
   "execution_count": null,
   "outputs": [],
   "source": [
    "epochs = 3\n",
    "log_steps = 100\n",
    "sum_loss = 0\n",
    "\n",
    "model.model.train()\n",
    "for epoch in range(1, epochs + 1):\n",
    "    print(5*'=', ' EPOCH {} '.format(epoch), 5 * '=')\n",
    "    for step, batch in enumerate(train_dataloader):\n",
    "         b_input_ids = batch[0]\n",
    "         b_input_mask = batch[1]\n",
    "         b_labels = batch[2].long().detach()\n",
    "         \n",
    "         pred = model(b_input_ids, b_input_mask, b_labels).detach().squeeze()\n",
    "         optimizer.zero_grad()\n",
    "         loss = criterion(pred, b_labels.type(torch.float32))\n",
    "         loss.requires_grad = True\n",
    "         loss.backward()\n",
    "         optimizer.step()\n",
    "         \n",
    "         sum_loss += loss.item()\n",
    "         \n",
    "         if step % log_steps == 0 and step:\n",
    "             print('  Average loss: {}'.format(sum_loss / log_steps))\n",
    "             sum_loss = 0\n"
   ],
   "metadata": {
    "collapsed": false,
    "pycharm": {
     "name": "#%%\n"
    }
   }
  }
 ],
 "metadata": {
  "kernelspec": {
   "display_name": "Python 3",
   "language": "python",
   "name": "python3"
  },
  "language_info": {
   "codemirror_mode": {
    "name": "ipython",
    "version": 2
   },
   "file_extension": ".py",
   "mimetype": "text/x-python",
   "name": "python",
   "nbconvert_exporter": "python",
   "pygments_lexer": "ipython2",
   "version": "2.7.6"
  },
  "pycharm": {
   "stem_cell": {
    "cell_type": "raw",
    "source": [],
    "metadata": {
     "collapsed": false
    }
   }
  }
 },
 "nbformat": 4,
 "nbformat_minor": 0
}